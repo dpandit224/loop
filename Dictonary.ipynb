{
 "cells": [
  {
   "cell_type": "code",
   "execution_count": 1,
   "id": "6604b665",
   "metadata": {},
   "outputs": [],
   "source": [
    "a={\"name\":'Manohar',\n",
    "  \"age\":21,\n",
    "  'city':'UP'}"
   ]
  },
  {
   "cell_type": "code",
   "execution_count": 2,
   "id": "6b9f91be",
   "metadata": {},
   "outputs": [
    {
     "name": "stdout",
     "output_type": "stream",
     "text": [
      "{'name': 'Manohar', 'age': 21, 'city': 'UP'}\n"
     ]
    }
   ],
   "source": [
    "print(a)"
   ]
  },
  {
   "cell_type": "code",
   "execution_count": 3,
   "id": "41b80291",
   "metadata": {},
   "outputs": [],
   "source": [
    "b={\"name\":'arun',\n",
    " \"age\":12,\n",
    " 'city':'MP'}"
   ]
  },
  {
   "cell_type": "code",
   "execution_count": 4,
   "id": "9b9b1a8f",
   "metadata": {},
   "outputs": [
    {
     "name": "stdout",
     "output_type": "stream",
     "text": [
      "{'name': 'arun', 'age': 12, 'city': 'MP'}\n"
     ]
    }
   ],
   "source": [
    "print(b)"
   ]
  },
  {
   "cell_type": "code",
   "execution_count": 5,
   "id": "3dead097",
   "metadata": {},
   "outputs": [
    {
     "data": {
      "text/plain": [
       "dict"
      ]
     },
     "execution_count": 5,
     "metadata": {},
     "output_type": "execute_result"
    }
   ],
   "source": [
    "type(b)"
   ]
  },
  {
   "cell_type": "code",
   "execution_count": 6,
   "id": "ff627423",
   "metadata": {},
   "outputs": [],
   "source": [
    "x={}"
   ]
  },
  {
   "cell_type": "code",
   "execution_count": 7,
   "id": "a779732b",
   "metadata": {},
   "outputs": [
    {
     "data": {
      "text/plain": [
       "{}"
      ]
     },
     "execution_count": 7,
     "metadata": {},
     "output_type": "execute_result"
    }
   ],
   "source": [
    "{}"
   ]
  },
  {
   "cell_type": "code",
   "execution_count": 8,
   "id": "7941391e",
   "metadata": {},
   "outputs": [],
   "source": [
    "x={}"
   ]
  },
  {
   "cell_type": "code",
   "execution_count": 9,
   "id": "29b7af6c",
   "metadata": {},
   "outputs": [
    {
     "data": {
      "text/plain": [
       "dict"
      ]
     },
     "execution_count": 9,
     "metadata": {},
     "output_type": "execute_result"
    }
   ],
   "source": [
    "type(x)"
   ]
  },
  {
   "cell_type": "code",
   "execution_count": 10,
   "id": "8d8a426e",
   "metadata": {},
   "outputs": [],
   "source": [
    "m = {1}"
   ]
  },
  {
   "cell_type": "code",
   "execution_count": 11,
   "id": "e5109e41",
   "metadata": {},
   "outputs": [
    {
     "data": {
      "text/plain": [
       "set"
      ]
     },
     "execution_count": 11,
     "metadata": {},
     "output_type": "execute_result"
    }
   ],
   "source": [
    "type(m)"
   ]
  },
  {
   "cell_type": "code",
   "execution_count": 12,
   "id": "27ac8a08",
   "metadata": {},
   "outputs": [],
   "source": [
    "s = {\"name\":'divyansh' },"
   ]
  },
  {
   "cell_type": "code",
   "execution_count": 13,
   "id": "095d369d",
   "metadata": {},
   "outputs": [
    {
     "name": "stdout",
     "output_type": "stream",
     "text": [
      "({'name': 'divyansh'},)\n"
     ]
    }
   ],
   "source": [
    "print(s)"
   ]
  },
  {
   "cell_type": "code",
   "execution_count": 14,
   "id": "0e80ac7e",
   "metadata": {},
   "outputs": [],
   "source": [
    "s = {\"divyansh \":'dev'}"
   ]
  },
  {
   "cell_type": "code",
   "execution_count": 15,
   "id": "bef90fec",
   "metadata": {},
   "outputs": [
    {
     "name": "stdout",
     "output_type": "stream",
     "text": [
      "{'divyansh ': 'dev'}\n"
     ]
    }
   ],
   "source": [
    "print(s)"
   ]
  },
  {
   "cell_type": "code",
   "execution_count": 16,
   "id": "072a1112",
   "metadata": {},
   "outputs": [
    {
     "data": {
      "text/plain": [
       "dict"
      ]
     },
     "execution_count": 16,
     "metadata": {},
     "output_type": "execute_result"
    }
   ],
   "source": [
    "type(s)"
   ]
  },
  {
   "cell_type": "code",
   "execution_count": 17,
   "id": "1035361e",
   "metadata": {},
   "outputs": [
    {
     "data": {
      "text/plain": [
       "{'name': 'Manohar', 'age': 21, 'city': 'UP'}"
      ]
     },
     "execution_count": 17,
     "metadata": {},
     "output_type": "execute_result"
    }
   ],
   "source": [
    "a"
   ]
  },
  {
   "cell_type": "code",
   "execution_count": 18,
   "id": "4ac4f4e9",
   "metadata": {},
   "outputs": [],
   "source": [
    "o = {\"city\":'aligarh',\n",
    "    \"name\": 'divyansh',\n",
    "    \"class\": 'BBa'}"
   ]
  },
  {
   "cell_type": "code",
   "execution_count": 19,
   "id": "41b3027f",
   "metadata": {},
   "outputs": [
    {
     "name": "stdout",
     "output_type": "stream",
     "text": [
      "{'city': 'aligarh', 'name': 'divyansh', 'class': 'BBa'}\n"
     ]
    }
   ],
   "source": [
    "print(o)"
   ]
  },
  {
   "cell_type": "code",
   "execution_count": 20,
   "id": "7cec0f24",
   "metadata": {},
   "outputs": [],
   "source": [
    "p = {\"phone\":'iphone',\n",
    "     \"battery\":'100',\n",
    "     \"colour\":'black'\n",
    "     \n",
    "    \n",
    "    \n",
    "    \n",
    "    \n",
    "    }"
   ]
  },
  {
   "cell_type": "code",
   "execution_count": 21,
   "id": "f423842d",
   "metadata": {},
   "outputs": [
    {
     "name": "stdout",
     "output_type": "stream",
     "text": [
      "{'phone': 'iphone', 'battery': '100', 'colour': 'black'}\n"
     ]
    }
   ],
   "source": [
    "print(p)"
   ]
  },
  {
   "cell_type": "code",
   "execution_count": 22,
   "id": "2ae5eddd",
   "metadata": {},
   "outputs": [
    {
     "data": {
      "text/plain": [
       "dict"
      ]
     },
     "execution_count": 22,
     "metadata": {},
     "output_type": "execute_result"
    }
   ],
   "source": [
    "type(p)"
   ]
  },
  {
   "cell_type": "code",
   "execution_count": 23,
   "id": "a5b53faf",
   "metadata": {},
   "outputs": [
    {
     "data": {
      "text/plain": [
       "'Manohar'"
      ]
     },
     "execution_count": 23,
     "metadata": {},
     "output_type": "execute_result"
    }
   ],
   "source": [
    "#slicing\n",
    "\n",
    "a['name']"
   ]
  },
  {
   "cell_type": "code",
   "execution_count": 30,
   "id": "b19765ba",
   "metadata": {},
   "outputs": [
    {
     "data": {
      "text/plain": [
       "['name', 'age']"
      ]
     },
     "execution_count": 30,
     "metadata": {},
     "output_type": "execute_result"
    }
   ],
   "source": [
    "['name','age']"
   ]
  },
  {
   "cell_type": "code",
   "execution_count": 45,
   "id": "ce40b6c3",
   "metadata": {},
   "outputs": [],
   "source": [
    "a={\n",
    "    'name':'Ram',\n",
    "    'city':'Punjab',\n",
    "    'marks':12,\n",
    "    '1':'This is my address'\n",
    "}"
   ]
  },
  {
   "cell_type": "code",
   "execution_count": 32,
   "id": "10b81f72",
   "metadata": {},
   "outputs": [
    {
     "data": {
      "text/plain": [
       "{'name': 'Ram', 'city': 'Punjab', 'marks': 12, '1': 'This is my address'}"
      ]
     },
     "execution_count": 32,
     "metadata": {},
     "output_type": "execute_result"
    }
   ],
   "source": []
  },
  {
   "cell_type": "code",
   "execution_count": 58,
   "id": "7f6859be",
   "metadata": {},
   "outputs": [],
   "source": [
    "a={\n",
    "    'name':'ankit',\n",
    "    'class':'bba',\n",
    "    'marks':[12,13,14]\n",
    "}"
   ]
  },
  {
   "cell_type": "code",
   "execution_count": 60,
   "id": "73207a84",
   "metadata": {},
   "outputs": [
    {
     "name": "stdout",
     "output_type": "stream",
     "text": [
      "{'name': 'ankit', 'class': 'bba', 'marks': [12, 13, 14]}\n"
     ]
    }
   ],
   "source": [
    "print(a)"
   ]
  },
  {
   "cell_type": "code",
   "execution_count": 62,
   "id": "774c3cd8",
   "metadata": {},
   "outputs": [
    {
     "data": {
      "text/plain": [
       "[12, 13, 14]"
      ]
     },
     "execution_count": 62,
     "metadata": {},
     "output_type": "execute_result"
    }
   ],
   "source": [
    "a['marks']"
   ]
  },
  {
   "cell_type": "code",
   "execution_count": 63,
   "id": "b599c4d8",
   "metadata": {},
   "outputs": [],
   "source": [
    "a={\n",
    "    'name':['Ram','Manohar','Shyam'],\n",
    "    'city':'Punjab',\n",
    "    'marks':[12,77,23],\n",
    "    1:'This is my address',\n",
    "    22.3:56,\n",
    "    'x' :{\n",
    "        'job':['IT',\"Mech\",\"Business\"]\n",
    "    },\n",
    "    'y':{\n",
    "        'xyz':123\n",
    "    }\n",
    "}"
   ]
  },
  {
   "cell_type": "code",
   "execution_count": 69,
   "id": "d09db293",
   "metadata": {},
   "outputs": [],
   "source": [
    "a={\n",
    "    'name':['ram','manohar','shyam'],\n",
    "    'city':'punjab',\n",
    "    'marks':[12,13,14],\n",
    "    1:'this is my address',\n",
    "    'gali no 2'\n",
    "    'x' :{\n",
    "        'job':['it']  \n",
    "    },\n",
    "    'y':{\n",
    "        'xyz':123\n",
    "    }\n",
    "}"
   ]
  },
  {
   "cell_type": "code",
   "execution_count": 70,
   "id": "89eb49be",
   "metadata": {},
   "outputs": [
    {
     "name": "stdout",
     "output_type": "stream",
     "text": [
      "{'name': ['ram', 'manohar', 'shyam'], 'city': 'punjab', 'marks': [12, 13, 14], 1: 'this is my address', 'gali no 2x': {'job': ['it']}, 'y': {'xyz': 123}}\n"
     ]
    }
   ],
   "source": [
    "print(a)"
   ]
  },
  {
   "cell_type": "code",
   "execution_count": 71,
   "id": "ee28a121",
   "metadata": {},
   "outputs": [
    {
     "data": {
      "text/plain": [
       "dict_keys(['name', 'city', 'marks', 1, 'gali no 2x', 'y'])"
      ]
     },
     "execution_count": 71,
     "metadata": {},
     "output_type": "execute_result"
    }
   ],
   "source": [
    "#key\n",
    "#value\n",
    "a.keys()"
   ]
  },
  {
   "cell_type": "code",
   "execution_count": 72,
   "id": "6c44d05e",
   "metadata": {},
   "outputs": [
    {
     "data": {
      "text/plain": [
       "dict_values([['ram', 'manohar', 'shyam'], 'punjab', [12, 13, 14], 'this is my address', {'job': ['it']}, {'xyz': 123}])"
      ]
     },
     "execution_count": 72,
     "metadata": {},
     "output_type": "execute_result"
    }
   ],
   "source": [
    "a.values()"
   ]
  },
  {
   "cell_type": "code",
   "execution_count": null,
   "id": "caad0b25",
   "metadata": {},
   "outputs": [],
   "source": []
  }
 ],
 "metadata": {
  "kernelspec": {
   "display_name": "Python 3 (ipykernel)",
   "language": "python",
   "name": "python3"
  },
  "language_info": {
   "codemirror_mode": {
    "name": "ipython",
    "version": 3
   },
   "file_extension": ".py",
   "mimetype": "text/x-python",
   "name": "python",
   "nbconvert_exporter": "python",
   "pygments_lexer": "ipython3",
   "version": "3.9.7"
  }
 },
 "nbformat": 4,
 "nbformat_minor": 5
}
