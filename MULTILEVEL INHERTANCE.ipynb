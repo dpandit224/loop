{
 "cells": [
  {
   "cell_type": "code",
   "execution_count": 1,
   "id": "2ceca03a",
   "metadata": {},
   "outputs": [],
   "source": [
    "#Method 1 \n",
    "class gpc:\n",
    "    def __init__(self,name):\n",
    "        self.name= name\n",
    "        \n",
    "class pc(gpc):\n",
    "    def __init__(self,name,age):\n",
    "        super().__init__(name)\n",
    "        self.age = age\n",
    "        \n",
    "class child(pc):\n",
    "    def __init__(self,name,age,marks):\n",
    "        super().__init__(name,age)\n",
    "        self.marks = marks \n",
    "        \n",
    "p = pc(\"A\",78)"
   ]
  },
  {
   "cell_type": "code",
   "execution_count": 2,
   "id": "c7756940",
   "metadata": {},
   "outputs": [
    {
     "data": {
      "text/plain": [
       "78"
      ]
     },
     "execution_count": 2,
     "metadata": {},
     "output_type": "execute_result"
    }
   ],
   "source": [
    "p.age"
   ]
  },
  {
   "cell_type": "code",
   "execution_count": 7,
   "id": "e28777b9",
   "metadata": {},
   "outputs": [],
   "source": [
    "#Method 2:\n",
    "class gpc:\n",
    "    def __init__(self,name):\n",
    "        self.name= name\n",
    "        \n",
    "class pc:\n",
    "    def __init__(self,name,age):\n",
    "        super().__init__(name)\n",
    "        self.age = age\n",
    "        \n",
    "class child(gpc):\n",
    "    def __init__(self,name,marks):\n",
    "        super().__init__(name)\n",
    "        self.marks = marks \n",
    "        \n",
    "c = child(\"A\",89)"
   ]
  },
  {
   "cell_type": "code",
   "execution_count": 10,
   "id": "4a248e80",
   "metadata": {},
   "outputs": [],
   "source": [
    "#Method 3\n",
    "class gpc:\n",
    "    def __init__(self,name):\n",
    "        self.name= name\n",
    "        \n",
    "class pc(gpc):\n",
    "    def __init__(self,name,age):\n",
    "        super().__init__(name)\n",
    "        self.age = age\n",
    "        \n",
    "class child(gpc):\n",
    "    def __init__(self,name,marks):\n",
    "        super().__init__(name)\n",
    "        self.marks = marks \n",
    "        \n",
    "P = pc(\"A\",89)"
   ]
  },
  {
   "cell_type": "code",
   "execution_count": 18,
   "id": "05aeb3cb",
   "metadata": {},
   "outputs": [],
   "source": [
    "#Method 4:\n",
    "#inherit from to child\n",
    "\n",
    "class gpc:\n",
    "    def __init__(self,name):\n",
    "        self.name= name\n",
    "        \n",
    "class pc(pc):\n",
    "    def __init__(self,age):\n",
    "        self.age = age\n",
    "        \n",
    "class child(pc):\n",
    "    def __init__(self,age,marks):\n",
    "        super().__init__(age)\n",
    "        self.marks = marks \n",
    "        \n",
    "c = child(24,89)"
   ]
  },
  {
   "cell_type": "code",
   "execution_count": null,
   "id": "f39a5415",
   "metadata": {},
   "outputs": [],
   "source": [
    "class pc:\n",
    "    pass\n",
    "\n",
    "class student:\n",
    "    def ___init___(self,name,age,marks):\n",
    "        \n",
    "    "
   ]
  },
  {
   "cell_type": "code",
   "execution_count": null,
   "id": "5300890e",
   "metadata": {},
   "outputs": [],
   "source": []
  }
 ],
 "metadata": {
  "kernelspec": {
   "display_name": "Python 3 (ipykernel)",
   "language": "python",
   "name": "python3"
  },
  "language_info": {
   "codemirror_mode": {
    "name": "ipython",
    "version": 3
   },
   "file_extension": ".py",
   "mimetype": "text/x-python",
   "name": "python",
   "nbconvert_exporter": "python",
   "pygments_lexer": "ipython3",
   "version": "3.9.7"
  }
 },
 "nbformat": 4,
 "nbformat_minor": 5
}
