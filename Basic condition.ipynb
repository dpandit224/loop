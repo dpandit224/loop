{
 "cells": [
  {
   "cell_type": "code",
   "execution_count": 1,
   "id": "c12587d8",
   "metadata": {},
   "outputs": [],
   "source": [
    "# if (condition):\n",
    "#     msg\n",
    "#     print()\n",
    "a=10\n",
    "b=12\n",
    "if(a>b):\n",
    "    print('False')"
   ]
  },
  {
   "cell_type": "code",
   "execution_count": 2,
   "id": "8902c336",
   "metadata": {},
   "outputs": [
    {
     "name": "stdout",
     "output_type": "stream",
     "text": [
      "hello\n"
     ]
    }
   ],
   "source": [
    "z=12\n",
    "x=10\n",
    "if (z>x):\n",
    "    heprint('hello')"
   ]
  },
  {
   "cell_type": "code",
   "execution_count": 8,
   "id": "a5ae3400",
   "metadata": {},
   "outputs": [
    {
     "name": "stdout",
     "output_type": "stream",
     "text": [
      "hello\n"
     ]
    }
   ],
   "source": [
    "h = 12 \n",
    "b = 16\n",
    "if (h<b):\n",
    "     print (\"hello\")\n",
    "        \n",
    "if (b<h):\n",
    "    print (\"haka\")"
   ]
  },
  {
   "cell_type": "code",
   "execution_count": 23,
   "id": "70c3d5e7",
   "metadata": {},
   "outputs": [
    {
     "name": "stdout",
     "output_type": "stream",
     "text": [
      "Adult\n"
     ]
    }
   ],
   "source": [
    "age=18\n",
    "\n",
    "if (age<20):\n",
    "    print(\"Adult\")\n",
    "else:\n",
    "    print(\"tum bacche ho\")"
   ]
  },
  {
   "cell_type": "code",
   "execution_count": 29,
   "id": "43de4305",
   "metadata": {},
   "outputs": [
    {
     "name": "stdout",
     "output_type": "stream",
     "text": [
      "phone thik hai tumahara\n"
     ]
    }
   ],
   "source": [
    "phone = 10\n",
    "if (phone<8):\n",
    "    print(\"tumhara phone kharab hai \")\n",
    "    \n",
    "else:\n",
    "    print(\"phone thik hai tumahara\")"
   ]
  },
  {
   "cell_type": "code",
   "execution_count": 30,
   "id": "bf23300d",
   "metadata": {},
   "outputs": [
    {
     "name": "stdout",
     "output_type": "stream",
     "text": [
      "Enter the no20\n",
      "Enter the no12\n",
      "Enter the no21\n",
      "21\n"
     ]
    }
   ],
   "source": [
    "a=int(input(\"Enter the no\"))\n",
    "b=int(input(\"Enter the no\"))\n",
    "c=int(input(\"Enter the no\"))\n",
    "if (a>b and a>c):\n",
    "    print(a)\n",
    "elif(b>a and b>c):\n",
    "    print(b)\n",
    "else:\n",
    "    print(c)"
   ]
  },
  {
   "cell_type": "code",
   "execution_count": 32,
   "id": "95fc1ae1",
   "metadata": {},
   "outputs": [
    {
     "name": "stdout",
     "output_type": "stream",
     "text": [
      "Enter the number21\n",
      "Enter the number21\n",
      "Enter the number21\n",
      "21\n"
     ]
    }
   ],
   "source": [
    "a = int(input(\"Enter the number\"))\n",
    "b = int(input(\"Enter the number\"))\n",
    "c = int(input(\"Enter the number\"))\n",
    "if (a<b) and (a>c):\n",
    "    print(a)\n",
    "elif(b>a) and  (b<c):\n",
    "    print(b)\n",
    "else:\n",
    "    print(c)"
   ]
  },
  {
   "cell_type": "code",
   "execution_count": 33,
   "id": "7762b201",
   "metadata": {},
   "outputs": [
    {
     "name": "stdout",
     "output_type": "stream",
     "text": [
      "1\n"
     ]
    }
   ],
   "source": [
    "#min\n",
    "a=1\n",
    "b=2\n",
    "c=3\n",
    "if (a<b and a<c):\n",
    "    print(a)\n",
    "elif(b<a and b<c):\n",
    "    print(b)\n",
    "else:\n",
    "    print(c)"
   ]
  },
  {
   "cell_type": "code",
   "execution_count": 35,
   "id": "382bdb92",
   "metadata": {},
   "outputs": [],
   "source": [
    "#string\n",
    "a = 'nk1213131scnsknskc'"
   ]
  },
  {
   "cell_type": "code",
   "execution_count": 36,
   "id": "851a0122",
   "metadata": {},
   "outputs": [
    {
     "data": {
      "text/plain": [
       "str"
      ]
     },
     "execution_count": 36,
     "metadata": {},
     "output_type": "execute_result"
    }
   ],
   "source": [
    "type (a)"
   ]
  },
  {
   "cell_type": "code",
   "execution_count": null,
   "id": "c17d4dac",
   "metadata": {},
   "outputs": [],
   "source": []
  }
 ],
 "metadata": {
  "kernelspec": {
   "display_name": "Python 3 (ipykernel)",
   "language": "python",
   "name": "python3"
  },
  "language_info": {
   "codemirror_mode": {
    "name": "ipython",
    "version": 3
   },
   "file_extension": ".py",
   "mimetype": "text/x-python",
   "name": "python",
   "nbconvert_exporter": "python",
   "pygments_lexer": "ipython3",
   "version": "3.9.7"
  }
 },
 "nbformat": 4,
 "nbformat_minor": 5
}
