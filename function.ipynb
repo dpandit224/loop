{
 "cells": [
  {
   "cell_type": "code",
   "execution_count": 1,
   "id": "0ac7d2df",
   "metadata": {},
   "outputs": [],
   "source": [
    "def read():\n",
    "    print(\"i am reading\")\n",
    "    print(\"i am a student\")\n",
    "    "
   ]
  },
  {
   "cell_type": "code",
   "execution_count": 2,
   "id": "941bff9e",
   "metadata": {},
   "outputs": [
    {
     "name": "stdout",
     "output_type": "stream",
     "text": [
      "i am reading\n",
      "i am a student\n"
     ]
    }
   ],
   "source": [
    "read()"
   ]
  },
  {
   "cell_type": "code",
   "execution_count": 3,
   "id": "cad1768f",
   "metadata": {},
   "outputs": [
    {
     "data": {
      "text/plain": [
       "function"
      ]
     },
     "execution_count": 3,
     "metadata": {},
     "output_type": "execute_result"
    }
   ],
   "source": [
    "type(read)"
   ]
  },
  {
   "cell_type": "code",
   "execution_count": 4,
   "id": "fc5d8fe1",
   "metadata": {},
   "outputs": [],
   "source": [
    "# # type of function\n",
    "# 1.no return no argument\n",
    "# 2.no return with argument\n",
    "# 3.with return with argument\n",
    "# 4.with return no argument\n",
    "\n",
    "\n"
   ]
  },
  {
   "cell_type": "code",
   "execution_count": 5,
   "id": "5f8c76ac",
   "metadata": {},
   "outputs": [],
   "source": [
    "def msg():\n",
    "    print(\"you are my bro\")\n",
    "    print(\"anit\")\n",
    "    print(\"x\")\n",
    "    "
   ]
  },
  {
   "cell_type": "code",
   "execution_count": 6,
   "id": "74004127",
   "metadata": {},
   "outputs": [
    {
     "name": "stdout",
     "output_type": "stream",
     "text": [
      "you are my bro\n",
      "anit\n",
      "x\n"
     ]
    }
   ],
   "source": [
    "msg()"
   ]
  },
  {
   "cell_type": "code",
   "execution_count": 7,
   "id": "0b26364f",
   "metadata": {},
   "outputs": [
    {
     "name": "stdout",
     "output_type": "stream",
     "text": [
      "3\n"
     ]
    }
   ],
   "source": [
    "#no return no agrument\n",
    "\n",
    "def add():\n",
    "    a= 1\n",
    "    b=2\n",
    "    result = (a+b)\n",
    "    print(result)\n",
    "add()"
   ]
  },
  {
   "cell_type": "code",
   "execution_count": 8,
   "id": "dfc76ffd",
   "metadata": {},
   "outputs": [
    {
     "name": "stdout",
     "output_type": "stream",
     "text": [
      "1\n"
     ]
    }
   ],
   "source": [
    "def minus():\n",
    "    a=15\n",
    "    b= 14\n",
    "    result = (a - b )\n",
    "    print(result)\n",
    "minus()"
   ]
  },
  {
   "cell_type": "code",
   "execution_count": 9,
   "id": "8be49419",
   "metadata": {},
   "outputs": [
    {
     "name": "stdout",
     "output_type": "stream",
     "text": [
      "224\n"
     ]
    }
   ],
   "source": [
    "def asn():\n",
    "    a = 14 \n",
    "    b = 16\n",
    "    result = (a * b)\n",
    "    print(result)\n",
    "    \n",
    "asn()"
   ]
  },
  {
   "cell_type": "code",
   "execution_count": 10,
   "id": "6d7f7ff9",
   "metadata": {},
   "outputs": [
    {
     "name": "stdout",
     "output_type": "stream",
     "text": [
      "30\n"
     ]
    }
   ],
   "source": [
    "#with argument no return\n",
    "\n",
    "def function_add(a,b):\n",
    "    result = a+b\n",
    "    print(result)\n",
    "    \n",
    "#  calling the function   \n",
    "function_add(10,20)\n"
   ]
  },
  {
   "cell_type": "code",
   "execution_count": 11,
   "id": "9cdf3208",
   "metadata": {},
   "outputs": [
    {
     "name": "stdout",
     "output_type": "stream",
     "text": [
      "168\n"
     ]
    }
   ],
   "source": [
    "def function_add(a,b):\n",
    "    result = a*b\n",
    "    print(result)\n",
    "    \n",
    "function_add(12,14)"
   ]
  },
  {
   "cell_type": "code",
   "execution_count": 12,
   "id": "bcd8a543",
   "metadata": {},
   "outputs": [
    {
     "name": "stdout",
     "output_type": "stream",
     "text": [
      "168\n"
     ]
    }
   ],
   "source": [
    "def f(a,b,c):\n",
    "    result=  a+b+c\n",
    "    print(result)\n",
    "    \n",
    "f(13,141,14)"
   ]
  },
  {
   "cell_type": "code",
   "execution_count": 13,
   "id": "1770e99f",
   "metadata": {},
   "outputs": [
    {
     "data": {
      "text/plain": [
       "8"
      ]
     },
     "execution_count": 13,
     "metadata": {},
     "output_type": "execute_result"
    }
   ],
   "source": [
    "#with return with arg\n",
    "def add_num(x,y):\n",
    "    result = x+y\n",
    "#     using return keyword\n",
    "    return result\n",
    "\n",
    "# Calling the function\n",
    "add_num(3,5)"
   ]
  },
  {
   "cell_type": "code",
   "execution_count": 14,
   "id": "a329d8ca",
   "metadata": {},
   "outputs": [
    {
     "data": {
      "text/plain": [
       "-1"
      ]
     },
     "execution_count": 14,
     "metadata": {},
     "output_type": "execute_result"
    }
   ],
   "source": [
    "def subtract__num(x,y):\n",
    "    result = x - y\n",
    "    return result\n",
    "subtract__num(12,13)"
   ]
  },
  {
   "cell_type": "code",
   "execution_count": 15,
   "id": "72856f2f",
   "metadata": {},
   "outputs": [
    {
     "data": {
      "text/plain": [
       "8"
      ]
     },
     "execution_count": 15,
     "metadata": {},
     "output_type": "execute_result"
    }
   ],
   "source": [
    "#with return with arg\n",
    "def add_num(x,y):\n",
    "    result = x+y\n",
    "#     using return keyword\n",
    "    return result\n",
    "\n",
    "# Calling the function\n",
    "add_num(3,5)"
   ]
  },
  {
   "cell_type": "code",
   "execution_count": 16,
   "id": "0561b3ef",
   "metadata": {},
   "outputs": [
    {
     "data": {
      "text/plain": [
       "6"
      ]
     },
     "execution_count": 16,
     "metadata": {},
     "output_type": "execute_result"
    }
   ],
   "source": [
    "def adding_(x,y):\n",
    "    result = x+y\n",
    "    return result\n",
    "add_num(3,3)"
   ]
  },
  {
   "cell_type": "code",
   "execution_count": 19,
   "id": "7c775d59",
   "metadata": {},
   "outputs": [
    {
     "name": "stdout",
     "output_type": "stream",
     "text": [
      "30\n"
     ]
    },
    {
     "data": {
      "text/plain": [
       "30"
      ]
     },
     "execution_count": 19,
     "metadata": {},
     "output_type": "execute_result"
    }
   ],
   "source": [
    "#with return no arg\n",
    "def ______add():\n",
    "    a = 20\n",
    "    b=  20\n",
    "#     result = a+b\n",
    "# using return function\n",
    "    return (10+20)\n",
    "print(10+20)\n",
    "______add()"
   ]
  },
  {
   "cell_type": "code",
   "execution_count": 24,
   "id": "5ce97859",
   "metadata": {},
   "outputs": [
    {
     "name": "stdout",
     "output_type": "stream",
     "text": [
      "71\n"
     ]
    },
    {
     "data": {
      "text/plain": [
       "71"
      ]
     },
     "execution_count": 24,
     "metadata": {},
     "output_type": "execute_result"
    }
   ],
   "source": [
    "def sub():\n",
    "    s = 34\n",
    "    v = 37\n",
    "    return ( 34 + 37 )\n",
    "print(34 + 37)\n",
    "sub()"
   ]
  },
  {
   "cell_type": "code",
   "execution_count": null,
   "id": "5124bd43",
   "metadata": {},
   "outputs": [],
   "source": [
    "# WAP and find elder and youngest among 3 \n",
    "# people with the help of function"
   ]
  },
  {
   "cell_type": "code",
   "execution_count": 6,
   "id": "c9d95b8a",
   "metadata": {},
   "outputs": [
    {
     "data": {
      "text/plain": [
       "10"
      ]
     },
     "execution_count": 6,
     "metadata": {},
     "output_type": "execute_result"
    }
   ],
   "source": [
    "def age(a,b,c):\n",
    "#     a='Ramesh'\n",
    "#     b='Ram'\n",
    "#     c=23\n",
    "    if (a<b and a<c):\n",
    "        return a\n",
    "    elif(b<a and b<c):\n",
    "        return b\n",
    "    else:\n",
    "        return c\n",
    "age(10,12,32)\n",
    "        "
   ]
  },
  {
   "cell_type": "code",
   "execution_count": 8,
   "id": "5380a6e5",
   "metadata": {},
   "outputs": [
    {
     "ename": "NameError",
     "evalue": "name 'priya' is not defined",
     "output_type": "error",
     "traceback": [
      "\u001b[1;31m---------------------------------------------------------------------------\u001b[0m",
      "\u001b[1;31mNameError\u001b[0m                                 Traceback (most recent call last)",
      "\u001b[1;32m~\\AppData\\Local\\Temp/ipykernel_5044/2153204573.py\u001b[0m in \u001b[0;36m<module>\u001b[1;34m\u001b[0m\n\u001b[0;32m     10\u001b[0m         \u001b[1;32mreturn\u001b[0m \u001b[0mc\u001b[0m\u001b[1;33m\u001b[0m\u001b[1;33m\u001b[0m\u001b[0m\n\u001b[0;32m     11\u001b[0m \u001b[1;33m\u001b[0m\u001b[0m\n\u001b[1;32m---> 12\u001b[1;33m \u001b[0mage\u001b[0m\u001b[1;33m(\u001b[0m\u001b[1;36m10\u001b[0m\u001b[1;33m,\u001b[0m\u001b[1;36m20\u001b[0m\u001b[1;33m,\u001b[0m\u001b[1;36m30\u001b[0m\u001b[1;33m)\u001b[0m\u001b[1;33m\u001b[0m\u001b[1;33m\u001b[0m\u001b[0m\n\u001b[0m",
      "\u001b[1;32m~\\AppData\\Local\\Temp/ipykernel_5044/2153204573.py\u001b[0m in \u001b[0;36mage\u001b[1;34m(a, b, c)\u001b[0m\n\u001b[0;32m      1\u001b[0m \u001b[1;32mdef\u001b[0m \u001b[0mage\u001b[0m\u001b[1;33m(\u001b[0m\u001b[0ma\u001b[0m\u001b[1;33m,\u001b[0m\u001b[0mb\u001b[0m\u001b[1;33m,\u001b[0m\u001b[0mc\u001b[0m\u001b[1;33m)\u001b[0m\u001b[1;33m:\u001b[0m\u001b[1;33m\u001b[0m\u001b[1;33m\u001b[0m\u001b[0m\n\u001b[1;32m----> 2\u001b[1;33m     \u001b[0ma\u001b[0m \u001b[1;33m=\u001b[0m \u001b[0mpriya\u001b[0m\u001b[1;33m\u001b[0m\u001b[1;33m\u001b[0m\u001b[0m\n\u001b[0m\u001b[0;32m      3\u001b[0m     \u001b[0mb\u001b[0m \u001b[1;33m=\u001b[0m \u001b[0mgopall\u001b[0m\u001b[1;33m\u001b[0m\u001b[1;33m\u001b[0m\u001b[0m\n\u001b[0;32m      4\u001b[0m     \u001b[0mc\u001b[0m \u001b[1;33m=\u001b[0m \u001b[0mram\u001b[0m\u001b[1;33m\u001b[0m\u001b[1;33m\u001b[0m\u001b[0m\n\u001b[0;32m      5\u001b[0m     \u001b[1;32mif\u001b[0m \u001b[1;33m(\u001b[0m\u001b[0ma\u001b[0m\u001b[1;33m<\u001b[0m\u001b[0mb\u001b[0m \u001b[1;32mand\u001b[0m \u001b[0ma\u001b[0m\u001b[1;33m<\u001b[0m\u001b[0mc\u001b[0m\u001b[1;33m)\u001b[0m\u001b[1;33m:\u001b[0m\u001b[1;33m\u001b[0m\u001b[1;33m\u001b[0m\u001b[0m\n",
      "\u001b[1;31mNameError\u001b[0m: name 'priya' is not defined"
     ]
    }
   ],
   "source": [
    "def age(a,b,c):\n",
    "    a = priya\n",
    "    b = gopall \n",
    "    c = ram\n",
    "    if (a<b and a<c):\n",
    "        return a \n",
    "    elif (b<a and b<c):\n",
    "        return b \n",
    "    else:\n",
    "        return c\n",
    "    \n",
    "age(10,20,30)\n"
   ]
  },
  {
   "cell_type": "code",
   "execution_count": null,
   "id": "3aba74f0",
   "metadata": {},
   "outputs": [],
   "source": []
  }
 ],
 "metadata": {
  "kernelspec": {
   "display_name": "Python 3 (ipykernel)",
   "language": "python",
   "name": "python3"
  },
  "language_info": {
   "codemirror_mode": {
    "name": "ipython",
    "version": 3
   },
   "file_extension": ".py",
   "mimetype": "text/x-python",
   "name": "python",
   "nbconvert_exporter": "python",
   "pygments_lexer": "ipython3",
   "version": "3.9.7"
  }
 },
 "nbformat": 4,
 "nbformat_minor": 5
}
